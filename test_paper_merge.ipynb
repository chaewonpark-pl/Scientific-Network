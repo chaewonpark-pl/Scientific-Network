{
 "cells": [
  {
   "cell_type": "code",
   "execution_count": 1,
   "metadata": {},
   "outputs": [
    {
     "name": "stderr",
     "output_type": "stream",
     "text": [
      "C:\\Users\\river\\AppData\\Local\\Temp\\ipykernel_18632\\4120632028.py:8: DtypeWarning: Columns (6,11,13,14) have mixed types. Specify dtype option on import or set low_memory=False.\n",
      "  paper_info = pd.read_csv('3.Paper_info_v1.csv')\n"
     ]
    },
    {
     "name": "stdout",
     "output_type": "stream",
     "text": [
      "       과제고유번호  과제수행년도  성과발생년도  성과발생부처명            성과사업ID              성과사업명  \\\n",
      "0  1075000007    2012    2012       29  201108320310401B  한국원자력안전기술원연구운영비지원   \n",
      "1  1075000007    2012    2012       29  201108320310401B  한국원자력안전기술원연구운영비지원   \n",
      "2  1075000007    2012    2012       29  201108320310401B  한국원자력안전기술원연구운영비지원   \n",
      "3  1075000185    2014    2014       29          3.61E+22          원자력안전연구개발   \n",
      "4  1075000185    2014    2014       29          3.61E+22          원자력안전연구개발   \n",
      "\n",
      "                                              성과고유번호  논문_SCI구분_최종  \\\n",
      "0    2012201108320310401B-2012-A5GD12302-TSS-its2401          1.0   \n",
      "1  2012201108320310401B-2012-A5GD12302-TSS-JNL-20...          1.0   \n",
      "2  2012201108320310401B-2012-A5GD12302-TSS-JNL-20...          1.0   \n",
      "3  36111015015115001501401-2014-1305008-HD110-TSS...          1.0   \n",
      "4  36111015015115001501401-2014-1305008-HD110-TSS...          1.0   \n",
      "\n",
      "                                             논문_학술지명  \\\n",
      "0             JOURNAL OF ENVIRONMENTAL RADIOACTIVITY   \n",
      "1  JOURNAL OF THE AMERICAN SOCIETY FOR MASS SPECT...   \n",
      "2                     JOURNAL OF HAZARDOUS MATERIALS   \n",
      "3        ATW-INTERNATIONAL JOURNAL FOR NUCLEAR POWER   \n",
      "4                           ANNALS OF NUCLEAR ENERGY   \n",
      "\n",
      "                                                 논문명         논문_주저자명 논문_논문번호  \\\n",
      "0  Radiological impact in Korea following the Fuk...  Kim, Chang-Kyu     NaN   \n",
      "1  Direct Determination of Gold in Rock Samples U...   Yim, Seong A.     NaN   \n",
      "2  The requirement for proper storage of nuclear ...      Kim, Daeji     NaN   \n",
      "3  A Reliability Assessment Methodology for the V...          Lee, H     NaN   \n",
      "4  Feasibility analysis of aggressive cooldown in...         Kim, MC     NaN   \n",
      "\n",
      "     논문_권 논문_호 논문_DOI_URL  논문_기여율_확정  \n",
      "0   111()  NaN        NaN      100.0  \n",
      "1   23(1)  NaN        NaN      100.0  \n",
      "2   213()  NaN        NaN      100.0  \n",
      "3  59(10)  NaN        NaN       50.0  \n",
      "4   68(0)  NaN        NaN      100.0  \n"
     ]
    }
   ],
   "source": [
    "# 과제고유번호 (2개 이상 조직 협력)와 일치하는 논문 \n",
    "import pandas as pd\n",
    "\n",
    "# 1. processed_data_v7_231120.csv 파일을 연다.\n",
    "processed_data = pd.read_csv('processed_data_v7_231120.csv')\n",
    "\n",
    "# 2. 3.Paper_info_v1.csv 파일을 연다.\n",
    "paper_info = pd.read_csv('3.Paper_info_v1.csv')\n",
    "\n",
    "# 3. 새로운 데이터 프레임 Collabo_Paper 을 만든다.\n",
    "# 4. Collabo_Paper에는 processed_data_v7_231120에서 등장한 '과제고유번호'와 일치한 3.Paper_info_v1.csv의 데이터를 가져온다. \n",
    "# (현재는 3.Paper_info_v1.csv에 불필요한 데이터가 많음.)\n",
    "\n",
    "# '과제고유번호' 컬럼을 기준으로 병합\n",
    "collabo_paper = pd.merge(processed_data[['과제고유번호']], paper_info, how='inner', on='과제고유번호')\n",
    "\n",
    "# 결과 확인\n",
    "print(collabo_paper.head())\n",
    "\n",
    "# 결과를 새로운 CSV 파일로 저장 (필요한 경우)\n",
    "collabo_paper.to_csv('Collabo_Paper.csv', index=False, encoding='utf-8-sig')\n"
   ]
  },
  {
   "cell_type": "code",
   "execution_count": null,
   "metadata": {},
   "outputs": [
    {
     "name": "stdout",
     "output_type": "stream",
     "text": [
      "        과제고유번호  과제수행년도  성과발생년도  성과발생부처명    성과사업ID                 성과사업명  \\\n",
      "34  1075001036    2020    2020       29  3.81E+22        원자력안전연구개발(R&D)   \n",
      "96  1315001369    2020    2020       26  1.81E+22  국민수요맞춤형생활안전연구개발(R&D)   \n",
      "97  1315001369    2020    2020       26  1.81E+22  국민수요맞춤형생활안전연구개발(R&D)   \n",
      "98  1315001369    2020    2020       26  1.81E+22  국민수요맞춤형생활안전연구개발(R&D)   \n",
      "99  1315001369    2020    2020       26  1.81E+22  국민수요맞춤형생활안전연구개발(R&D)   \n",
      "\n",
      "   성과고유번호  논문_SCI구분_최종                                  논문_학술지명  \\\n",
      "34    NaN          1.0  RELIABILITY ENGINEERING & SYSTEM SAFETY   \n",
      "96    NaN          1.0                   Applied Sciences-Basel   \n",
      "97    NaN          1.0        KSCE Journal of Civil Engineering   \n",
      "98    NaN          1.0                           Remote Sensing   \n",
      "99    NaN          1.0                                  SENSORS   \n",
      "\n",
      "                                                  논문명  \\\n",
      "34  Dependency analysis method for human failure e...   \n",
      "96  A Crack Characterization Method for Reinforced...   \n",
      "97  Service-Life Evaluation of Existing Bridges Su...   \n",
      "98  Hybrid Wavelet and Principal Component Analyse...   \n",
      "99  Performance Degradation Assessment of Concrete...   \n",
      "\n",
      "                                              논문_주저자명      논문_논문번호 논문_권 논문_호  \\\n",
      "34  Kim, Jonghyun;Park, Gayoung;Arigi, Awwal Mohammed  ARTN 107112  203  NaN   \n",
      "96    Kim, Jong-Myon;Habib, Md Arafat;Kim, Cheol Hong    ARTN 7918   10   21   \n",
      "97  Hu, Jong Wan;Elbeltagi, Emad;Kaloop, Mosbeh R....          NaN   24    5   \n",
      "98  El-Mowafy, Ahmed;Hu, Jong Wan;Dindar, Ahmet A....      ARTN 79   12    1   \n",
      "99        Rai, Akhand;Kim, Jong-Myon;Habib, Md Arafat    ARTN 3402   20   12   \n",
      "\n",
      "                    논문_DOI_URL  논문_기여율_확정  \n",
      "34  10.1016/j.ress.2020.107112       50.0  \n",
      "96         10.3390/app10217918      100.0  \n",
      "97   10.1007/s12205-020-2128-1      100.0  \n",
      "98          10.3390/rs12010079      100.0  \n",
      "99           10.3390/s20123402      100.0  \n"
     ]
    }
   ],
   "source": [
    "# 전체 논문 중 2명 이상 저자인 데이터\n",
    "collabo_paper_2 = collabo_paper[collabo_paper['논문_주저자명'].str.contains(';', na=False)]\n",
    "print(collabo_paper_2.head())\n",
    "collabo_paper_2.to_csv('Collabo_Paper_2.csv', index=False, encoding='utf-8-sig')"
   ]
  },
  {
   "cell_type": "code",
   "execution_count": null,
   "metadata": {},
   "outputs": [
    {
     "name": "stdout",
     "output_type": "stream",
     "text": [
      "   과제수행년도      과제고유번호  성과발생년도  성과발생부처명    성과사업ID                  성과사업명  \\\n",
      "0    2020  1485017188    2020       37  2.31E+22  생활화학제품안전관리기술개발사업(R&D)   \n",
      "1    2020  1485017116    2020       37  2.31E+22  도시생태계건강성증진기술개발사업(R&D)   \n",
      "2    2020  1075001049    2020       29  3.81E+22         원자력안전연구개발(R&D)   \n",
      "3    2020  1485017160    2020       37  2.31E+22  환경시설재난재해대응기술개발사업(R&D)   \n",
      "4    2020  1075001076    2020       29  3.81E+22     안전규제요소·융합기술개발(R&D)   \n",
      "\n",
      "  성과고유번호  논문_SCI구분_최종                                  논문_학술지명  \\\n",
      "0    NaN          1.0                           WATER RESEARCH   \n",
      "1    NaN          1.0                           Sustainability   \n",
      "2    NaN          1.0  RELIABILITY ENGINEERING & SYSTEM SAFETY   \n",
      "3    NaN          1.0                                    Water   \n",
      "4    NaN          1.0                                 Energies   \n",
      "\n",
      "                                                 논문명  \\\n",
      "0  Seasonal contrast of particulate organic carbo...   \n",
      "1  Hydrological Effects of Urban Green Space on S...   \n",
      "2  A source term binning methodology for multi-un...   \n",
      "3  Characterization of 1,4-Dioxane Biodegradation...   \n",
      "4  Recent Progress in Hydrogen Flammability Predi...   \n",
      "\n",
      "                                             논문_주저자명      논문_논문번호 논문_권 논문_호  \\\n",
      "0  Bong, Yeon Sik;Hwang, Ji Hwan;Kim, Jung-Hyun;K...  ARTN 116442  187  NaN   \n",
      "1  Huang, Jing;Xu, Enkai;Guo, Jianhui;Mayer, Audr...    ARTN 6599   12   16   \n",
      "2  Jae, Moosung;Song, Wonjong;Park, Sunghyun;Seo,...  ARTN 106989  202  NaN   \n",
      "3        Wie, Young Min;Lee, Yong-Soo;Lee, Kang Hoon    ARTN 3372   12   12   \n",
      "4                      Jeon, Joongoo;Kim, Sung Joong    ARTN 6263   13   23   \n",
      "\n",
      "                     논문_DOI_URL   논문_기여율_확정  \n",
      "0  10.1016/j.watres.2020.116442   33.333333  \n",
      "1            10.3390/su12166599  100.000000  \n",
      "2    10.1016/j.ress.2020.106989  100.000000  \n",
      "3             10.3390/w12123372  100.000000  \n",
      "4            10.3390/en13236263  100.000000  \n"
     ]
    }
   ],
   "source": [
    "# 한 과제에서 공동 논문이 하나 이상 있는 경우\n",
    "def has_semicolon(group):\n",
    "    return any(group['논문_주저자명'].str.contains(';'))\n",
    "\n",
    "# 세미콜론이 있는 과제고유번호를 필터링\n",
    "filtered_project_ids = paper_info.groupby('과제고유번호').filter(has_semicolon)['과제고유번호'].unique()\n",
    "\n",
    "# 필터링된 과제고유번호에 해당하는 모든 데이터 포함\n",
    "collabo_paper_3 = paper_info[paper_info['과제고유번호'].isin(filtered_project_ids)]\n",
    "\n",
    "# 결과 확인\n",
    "print(collabo_paper_3.head())\n",
    "\n",
    "# 결과를 새로운 CSV 파일로 저장 (필요한 경우)\n",
    "collabo_paper_3.to_csv('Collabo_Paper_3.csv', index=False, encoding='utf-8-sig')"
   ]
  },
  {
   "cell_type": "code",
   "execution_count": null,
   "metadata": {},
   "outputs": [
    {
     "name": "stdout",
     "output_type": "stream",
     "text": [
      "과제고유번호\n",
      "1711121928    767\n",
      "1345311114    655\n",
      "1711122447    585\n",
      "1345329037    341\n",
      "1711079700    271\n",
      "             ... \n",
      "1345318187      1\n",
      "1345317959      1\n",
      "1345317051      1\n",
      "1345314463      1\n",
      "1485017188      1\n",
      "Name: count, Length: 22731, dtype: int64\n",
      "Number of project IDs with more than 1 occurrence: 14029\n"
     ]
    }
   ],
   "source": [
    "# '과제고유번호'의 중복 개수 세기\n",
    "project_counts = collabo_paper_3['과제고유번호'].value_counts()\n",
    "\n",
    "# 결과 출력\n",
    "print(project_counts)\n",
    "\n",
    "# 중복 개수가 1 초과인 데이터의 개수 세기\n",
    "duplicate_project_count = (project_counts > 1).sum()\n",
    "\n",
    "# 결과 출력\n",
    "print(f\"Number of project IDs with more than 1 occurrence: {duplicate_project_count}\")"
   ]
  },
  {
   "cell_type": "code",
   "execution_count": 14,
   "metadata": {},
   "outputs": [
    {
     "name": "stdout",
     "output_type": "stream",
     "text": [
      "Number of records with '대학_수' = 0: 1539\n",
      "Number of records with both '대학_수' = 0 and '연구기관_수' = 0: 410\n"
     ]
    }
   ],
   "source": [
    "# '논문_개수'가 1 이상인 데이터 필터링\n",
    "filtered_paper_1 = processed_data[processed_data['논문_개수'] >= 1]\n",
    "\n",
    "# 1. '대학_수'가 0인 데이터의 개수\n",
    "num_universities_zero = filtered_paper_1[filtered_paper_1['대학_수'] == 0].shape[0]\n",
    "\n",
    "# 2. '대학_수'와 '연구기관_수'가 모두 0인 데이터의 개수\n",
    "num_universities_and_research_institutes_zero = filtered_paper_1[\n",
    "    (filtered_paper_1['대학_수'] == 0) & (filtered_paper_1['연구기관_수'] == 0)\n",
    "].shape[0]\n",
    "\n",
    "# 결과 출력\n",
    "print(f\"Number of records with '대학_수' = 0: {num_universities_zero}\")\n",
    "print(f\"Number of records with both '대학_수' = 0 and '연구기관_수' = 0: {num_universities_and_research_institutes_zero}\")\n"
   ]
  },
  {
   "cell_type": "code",
   "execution_count": 13,
   "metadata": {},
   "outputs": [
    {
     "name": "stdout",
     "output_type": "stream",
     "text": [
      "Mean of 'blau_index': 0.39243126102478293\n",
      "Standard Deviation of 'blau_index': 0.21969855158260854\n"
     ]
    }
   ],
   "source": [
    "# Filter the data where '대학_수' is 0\n",
    "filtered_data = processed_data[processed_data['대학_수'] == 0]\n",
    "\n",
    "# Calculate the mean and standard deviation of 'blau_index'\n",
    "mean_blau_index = filtered_data['blau_index'].mean()\n",
    "std_blau_index = filtered_data['blau_index'].std()\n",
    "\n",
    "print(f\"Mean of 'blau_index': {mean_blau_index}\")\n",
    "print(f\"Standard Deviation of 'blau_index': {std_blau_index}\")"
   ]
  },
  {
   "cell_type": "code",
   "execution_count": 2,
   "metadata": {},
   "outputs": [
    {
     "name": "stdout",
     "output_type": "stream",
     "text": [
      "Mean of summed '논문_개수' per '사업ID': 116.33884297520662\n",
      "Standard Deviation of summed '논문_개수' per '사업ID': 602.4341446834048\n"
     ]
    }
   ],
   "source": [
    "# # Filter the data where '논문_개수' is not 0\n",
    "# filtered_data = processed_data[processed_data['논문_개수'] != 0]\n",
    "\n",
    "# # Calculate the mean and standard deviation of '논문_개수'\n",
    "# mean_numpapers = filtered_data['논문_개수'].mean()\n",
    "# std_numpapers = filtered_data['논문_개수'].std()\n",
    "\n",
    "# print(f\"Mean of '논문_개수': {mean_numpapers}\")\n",
    "# print(f\"Standard Deviation of '논문_개수': {std_numpapers}\")\n",
    "\n",
    "grouped_data = processed_data.groupby('사업ID')['논문_개수'].sum().reset_index()\n",
    "\n",
    "# Step 3: Calculate the mean and standard deviation of the summed '논문_개수' per '사업ID'\n",
    "mean_numpapers = grouped_data['논문_개수'].mean()\n",
    "std_numpapers = grouped_data['논문_개수'].std()\n",
    "\n",
    "print(f\"Mean of summed '논문_개수' per '사업ID': {mean_numpapers}\")\n",
    "print(f\"Standard Deviation of summed '논문_개수' per '사업ID': {std_numpapers}\")"
   ]
  },
  {
   "cell_type": "code",
   "execution_count": 1,
   "metadata": {},
   "outputs": [
    {
     "name": "stdout",
     "output_type": "stream",
     "text": [
      "['Conceptual design of thorium based epithermal spectrum reactor']\n",
      "[{'given': 'Hong Yeop', 'family': 'Choi', 'sequence': 'first', 'affiliation': []}, {'given': 'Chang Je', 'family': 'Park', 'sequence': 'additional', 'affiliation': []}]\n"
     ]
    }
   ],
   "source": [
    "import requests\n",
    "\n",
    "doi = \"10.1016/j.anucene.2017.05.017\"\n",
    "url = f\"https://api.crossref.org/works/{doi}\"\n",
    "\n",
    "response = requests.get(url)\n",
    "if response.status_code == 200:\n",
    "    data = response.json()\n",
    "    print(data['message']['title'])\n",
    "    print(data['message']['author'])\n",
    "else:\n",
    "    print(f\"Failed to retrieve data for DOI {doi}\")"
   ]
  },
  {
   "cell_type": "code",
   "execution_count": 2,
   "metadata": {},
   "outputs": [
    {
     "name": "stdout",
     "output_type": "stream",
     "text": [
      "Title: Antibacterial infection and immune-evasive coating for orthopedic implants\n",
      "DOI: 10.1126/sciadv.abb0025\n",
      "Author: Kyomin Chae\n",
      "Affiliation: School of Electrical and Electronic Engineering, Yonsei University, Seoul 03722, Republic of Korea.\n",
      "Author: Woo Young Jang\n",
      "Affiliation: Department of Orthopedic Surgery, Korea University Anam Hospital, Seoul 02841, Republic of Korea.\n",
      "Author: Kijun Park\n",
      "Affiliation: School of Electrical and Electronic Engineering, Yonsei University, Seoul 03722, Republic of Korea.\n",
      "Author: Jinhyeok Lee\n",
      "Affiliation: Department of Orthopedic Surgery, Korea University Anam Hospital, Seoul 02841, Republic of Korea.\n",
      "Author: Hyunchul Kim\n",
      "Affiliation: School of Electrical and Electronic Engineering, Yonsei University, Seoul 03722, Republic of Korea.\n",
      "Author: Kyoungbun Lee\n",
      "Affiliation: Department of Pathology, Seoul National University College of Medicine, Seoul 03080, Republic of Korea.\n",
      "Author: Chang Kyu Lee\n",
      "Affiliation: Department of Laboratory Medicine, Korea University Anam Hospital, Seoul 02841, Republic of Korea.\n",
      "Author: Yeontaek Lee\n",
      "Affiliation: School of Electrical and Electronic Engineering, Yonsei University, Seoul 03722, Republic of Korea.\n",
      "Author: Soon Hyuck Lee\n",
      "Affiliation: Department of Orthopedic Surgery, Korea University Anam Hospital, Seoul 02841, Republic of Korea.\n",
      "Author: Jungmok Seo\n",
      "Affiliation: School of Electrical and Electronic Engineering, Yonsei University, Seoul 03722, Republic of Korea.\n"
     ]
    }
   ],
   "source": [
    "import requests\n",
    "\n",
    "# 논문명\n",
    "title = \"Antibacterial infection and immune-evasive coating for orthopedic implants\"\n",
    "\n",
    "# CrossRef API 엔드포인트\n",
    "url = \"https://api.crossref.org/works\"\n",
    "\n",
    "# 요청 파라미터\n",
    "params = {\n",
    "    'query.title': title,\n",
    "    'rows': 1  # 첫 번째 결과만 가져옴\n",
    "}\n",
    "\n",
    "response = requests.get(url, params=params)\n",
    "\n",
    "if response.status_code == 200:\n",
    "    data = response.json()\n",
    "    if data['message']['items']:\n",
    "        paper = data['message']['items'][0]\n",
    "        print(\"Title:\", paper['title'][0])\n",
    "        print(\"DOI:\", paper['DOI'])\n",
    "        if 'author' in paper:\n",
    "            for author in paper['author']:\n",
    "                print(f\"Author: {author['given']} {author['family']}\")\n",
    "                if 'affiliation' in author and author['affiliation']:\n",
    "                    print(f\"Affiliation: {author['affiliation'][0]['name']}\")\n",
    "                else:\n",
    "                    print(\"Affiliation: N/A\")\n",
    "    else:\n",
    "        print(\"No results found.\")\n",
    "else:\n",
    "    print(f\"Failed to retrieve data: {response.status_code}\")\n"
   ]
  },
  {
   "cell_type": "code",
   "execution_count": 10,
   "metadata": {},
   "outputs": [
    {
     "name": "stdout",
     "output_type": "stream",
     "text": [
      "Title: A Biodegradable Microneedle Cuff for Comparison of Drug Effects through Perivascular Delivery to Balloon-Injured Arteries\n",
      "DOI: 10.3390/polym9020056\n",
      "Author: Dae-Hyun Kim\n",
      "Affiliation: Division of Cardiovascular Surgery, Severance Cardiovascular Hospital, Yonsei University College of Medicine, 50-1 Yonsei-ro, Sedaemun-gu, Seoul 03722, Korea\n",
      "Author: Eui Jang\n",
      "Affiliation: Division of Cardiovascular Surgery, Severance Cardiovascular Hospital, Yonsei University College of Medicine, 50-1 Yonsei-ro, Sedaemun-gu, Seoul 03722, Korea\n",
      "Author: Kang Lee\n",
      "Affiliation: School of Mechanical Engineering, Yonsei University, 50 Yonsei-ro, Sedaemun-gu, Seoul 03722, Korea\n",
      "Author: Ji Lee\n",
      "Affiliation: School of Mechanical Engineering, Yonsei University, 50 Yonsei-ro, Sedaemun-gu, Seoul 03722, Korea\n",
      "Author: Seung Park\n",
      "Affiliation: School of Mechanical Engineering, Yonsei University, 50 Yonsei-ro, Sedaemun-gu, Seoul 03722, Korea\n",
      "Author: Il Seo\n",
      "Affiliation: School of Mechanical Engineering, Yonsei University, 50 Yonsei-ro, Sedaemun-gu, Seoul 03722, Korea\n",
      "Author: Kang Lee\n",
      "Affiliation: Division of Cardiovascular Surgery, Severance Cardiovascular Hospital, Yonsei University College of Medicine, 50-1 Yonsei-ro, Sedaemun-gu, Seoul 03722, Korea\n",
      "Author: Seung Lee\n",
      "Affiliation: Division of Cardiovascular Surgery, Severance Cardiovascular Hospital, Yonsei University College of Medicine, 50-1 Yonsei-ro, Sedaemun-gu, Seoul 03722, Korea\n",
      "Author: WonHyoung Ryu\n",
      "Affiliation: School of Mechanical Engineering, Yonsei University, 50 Yonsei-ro, Sedaemun-gu, Seoul 03722, Korea\n",
      "Author: Young-Nam Youn\n",
      "Affiliation: Division of Cardiovascular Surgery, Severance Cardiovascular Hospital, Yonsei University College of Medicine, 50-1 Yonsei-ro, Sedaemun-gu, Seoul 03722, Korea\n",
      "Citation Count: 10\n"
     ]
    }
   ],
   "source": [
    "import requests\n",
    "\n",
    "# 논문명\n",
    "title = \"A Biodegradable Microneedle Cuff for Comparison of Drug Effects through Perivascular Delivery to Balloon-Injured Arteries\"\n",
    "\n",
    "# CrossRef API 엔드포인트\n",
    "url = \"https://api.crossref.org/works\"\n",
    "\n",
    "# 요청 파라미터\n",
    "params = {\n",
    "    'query.title': title,\n",
    "    'rows': 1  # 첫 번째 결과만 가져옴\n",
    "}\n",
    "\n",
    "response = requests.get(url, params=params)\n",
    "\n",
    "if response.status_code == 200:\n",
    "    data = response.json()\n",
    "    if data['message']['items']:\n",
    "        paper = data['message']['items'][0]\n",
    "        print(\"Title:\", paper['title'][0])\n",
    "        print(\"DOI:\", paper['DOI'])\n",
    "        if 'author' in paper:\n",
    "            for author in paper['author']:\n",
    "                print(f\"Author: {author['given']} {author['family']}\")\n",
    "                if 'affiliation' in author and author['affiliation']:\n",
    "                    print(f\"Affiliation: {author['affiliation'][0]['name']}\")\n",
    "                else:\n",
    "                    print(\"Affiliation: N/A\")\n",
    "        if 'is-referenced-by-count' in paper:\n",
    "            print(\"Citation Count:\", paper['is-referenced-by-count'])\n",
    "        else:\n",
    "            print(\"Citation Count: Not available\")\n",
    "    else:\n",
    "        print(\"No results found.\")\n",
    "else:\n",
    "    print(f\"Failed to retrieve data: {response.status_code}\")\n"
   ]
  }
 ],
 "metadata": {
  "kernelspec": {
   "display_name": "Python 3",
   "language": "python",
   "name": "python3"
  },
  "language_info": {
   "codemirror_mode": {
    "name": "ipython",
    "version": 3
   },
   "file_extension": ".py",
   "mimetype": "text/x-python",
   "name": "python",
   "nbconvert_exporter": "python",
   "pygments_lexer": "ipython3",
   "version": "3.12.3"
  }
 },
 "nbformat": 4,
 "nbformat_minor": 2
}
